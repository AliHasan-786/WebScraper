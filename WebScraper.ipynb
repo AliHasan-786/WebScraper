{
  "nbformat": 4,
  "nbformat_minor": 0,
  "metadata": {
    "colab": {
      "provenance": [],
      "authorship_tag": "ABX9TyPjOWHCL4igyh0KhGDEfVTe",
      "include_colab_link": true
    },
    "kernelspec": {
      "name": "python3",
      "display_name": "Python 3"
    },
    "language_info": {
      "name": "python"
    }
  },
  "cells": [
    {
      "cell_type": "markdown",
      "metadata": {
        "id": "view-in-github",
        "colab_type": "text"
      },
      "source": [
        "<a href=\"https://colab.research.google.com/github/AliHasan-786/WebScraper/blob/main/WebScraper.ipynb\" target=\"_parent\"><img src=\"https://colab.research.google.com/assets/colab-badge.svg\" alt=\"Open In Colab\"/></a>"
      ]
    },
    {
      "cell_type": "code",
      "execution_count": 8,
      "metadata": {
        "colab": {
          "base_uri": "https://localhost:8080/"
        },
        "id": "3AZGvC9xy_dt",
        "outputId": "bac5b1e9-a320-47a5-ad05-5277277223fa"
      },
      "outputs": [
        {
          "output_type": "stream",
          "name": "stdout",
          "text": [
            "Requirement already satisfied: beautifulsoup4 in /usr/local/lib/python3.10/dist-packages (4.12.3)\n",
            "Requirement already satisfied: soupsieve>1.2 in /usr/local/lib/python3.10/dist-packages (from beautifulsoup4) (2.5)\n"
          ]
        }
      ],
      "source": [
        "!pip install beautifulsoup4\n",
        "\n",
        "import urllib.request\n",
        "from bs4 import BeautifulSoup\n",
        "\n"
      ]
    },
    {
      "cell_type": "code",
      "source": [
        "class Scraper:\n",
        "    def __init__(self, site):\n",
        "        self.site = site\n",
        "\n",
        "    def scrape(self):\n",
        "        r = urllib.request.urlopen(self.site)\n",
        "        html = r.read()\n",
        "        parser = \"html.parser\"\n",
        "        sp = BeautifulSoup(html,parser)\n",
        "        for tag in sp.find_all(\"a\"):\n",
        "            url = tag.get(\"href\")\n",
        "            if url is None:\n",
        "                continue\n",
        "            if \"articles\" in url:\n",
        "                print(\"\\n\" + url)\n",
        "\n",
        "news = \"https://news.google.com/\"\n",
        "Scraper(news).scrape()\n"
      ],
      "metadata": {
        "colab": {
          "base_uri": "https://localhost:8080/"
        },
        "id": "jh6MAfJIlGfq",
        "outputId": "b09501a0-02eb-42e9-830c-4c5aafe98ae3"
      },
      "execution_count": 10,
      "outputs": [
        {
          "output_type": "stream",
          "name": "stdout",
          "text": [
            "\n",
            "./articles/CBMicWh0dHBzOi8vd3d3Lndhc2hpbmd0b25wb3N0LmNvbS9uYXRpb25hbC1zZWN1cml0eS8yMDI0LzA0LzI0L2FyaXpvbmEtMjAyMC1lbGVjdGlvbi1jaGFyZ2VzLW1lYWRvd3MtZ2l1bGlhbmktZWxsaXMv0gEA?hl=en-US&gl=US&ceid=US%3Aen\n",
            "\n",
            "./articles/CBMicWh0dHBzOi8vd3d3Lndhc2hpbmd0b25wb3N0LmNvbS9uYXRpb25hbC1zZWN1cml0eS8yMDI0LzA0LzI0L2FyaXpvbmEtMjAyMC1lbGVjdGlvbi1jaGFyZ2VzLW1lYWRvd3MtZ2l1bGlhbmktZWxsaXMv0gEA?hl=en-US&gl=US&ceid=US%3Aen\n",
            "\n",
            "./articles/CBMicGh0dHBzOi8vd3d3Lm5iY25ld3MuY29tL3BvbGl0aWNzLzIwMjQtZWxlY3Rpb24vdHJ1bXBzLTIwMjAtZmFrZS1lbGVjdG9ycy1jaGFyZ2VkLXN0YXRlLWNyaW1lcy1hcml6b25hLXJjbmExNDkyMTTSAStodHRwczovL3d3dy5uYmNuZXdzLmNvbS9uZXdzL2FtcC9yY25hMTQ5MjE0?hl=en-US&gl=US&ceid=US%3Aen\n",
            "\n",
            "./articles/CBMicGh0dHBzOi8vd3d3Lm5iY25ld3MuY29tL3BvbGl0aWNzLzIwMjQtZWxlY3Rpb24vdHJ1bXBzLTIwMjAtZmFrZS1lbGVjdG9ycy1jaGFyZ2VkLXN0YXRlLWNyaW1lcy1hcml6b25hLXJjbmExNDkyMTTSAStodHRwczovL3d3dy5uYmNuZXdzLmNvbS9uZXdzL2FtcC9yY25hMTQ5MjE0?hl=en-US&gl=US&ceid=US%3Aen\n",
            "\n",
            "./articles/CBMiZGh0dHBzOi8vd3d3LmNubi5jb20vMjAyNC8wNC8yNC9wb2xpdGljcy9hcml6b25hLWNyaW1pbmFsLWNoYXJnZXMtMjAyMC1lbGVjdGlvbi1zdWJ2ZXJzaW9uL2luZGV4Lmh0bWzSAV1odHRwczovL2FtcC5jbm4uY29tL2Nubi8yMDI0LzA0LzI0L3BvbGl0aWNzL2FyaXpvbmEtY3JpbWluYWwtY2hhcmdlcy0yMDIwLWVsZWN0aW9uLXN1YnZlcnNpb24?hl=en-US&gl=US&ceid=US%3Aen\n",
            "\n",
            "./articles/CBMiZGh0dHBzOi8vd3d3LmNubi5jb20vMjAyNC8wNC8yNC9wb2xpdGljcy9hcml6b25hLWNyaW1pbmFsLWNoYXJnZXMtMjAyMC1lbGVjdGlvbi1zdWJ2ZXJzaW9uL2luZGV4Lmh0bWzSAV1odHRwczovL2FtcC5jbm4uY29tL2Nubi8yMDI0LzA0LzI0L3BvbGl0aWNzL2FyaXpvbmEtY3JpbWluYWwtY2hhcmdlcy0yMDIwLWVsZWN0aW9uLXN1YnZlcnNpb24?hl=en-US&gl=US&ceid=US%3Aen\n",
            "\n",
            "./articles/CBMiZWh0dHBzOi8vd3d3LnBvbGl0aWNvLmNvbS9uZXdzLzIwMjQvMDQvMjQvYXJpem9uYS1lbGVjdGlvbi1pbmRpY3RtZW50cy1naXVsaWFuaS1tZWFkb3dzLXRydW1wLTAwMTU0MjQx0gEA?hl=en-US&gl=US&ceid=US%3Aen\n",
            "\n",
            "./articles/CBMiZWh0dHBzOi8vd3d3LnBvbGl0aWNvLmNvbS9uZXdzLzIwMjQvMDQvMjQvYXJpem9uYS1lbGVjdGlvbi1pbmRpY3RtZW50cy1naXVsaWFuaS1tZWFkb3dzLXRydW1wLTAwMTU0MjQx0gEA?hl=en-US&gl=US&ceid=US%3Aen\n",
            "\n",
            "./articles/CBMiVWh0dHBzOi8vd3d3Lm55dGltZXMuY29tLzIwMjQvMDQvMjQvYnVzaW5lc3MvY29sbGVnZS1wcm90ZXN0ZXJzLWRpdmVzdG1lbnQtaXNyYWVsLmh0bWzSAQA?hl=en-US&gl=US&ceid=US%3Aen\n",
            "\n",
            "./articles/CBMiVWh0dHBzOi8vd3d3Lm55dGltZXMuY29tLzIwMjQvMDQvMjQvYnVzaW5lc3MvY29sbGVnZS1wcm90ZXN0ZXJzLWRpdmVzdG1lbnQtaXNyYWVsLmh0bWzSAQA?hl=en-US&gl=US&ceid=US%3Aen\n",
            "\n",
            "./articles/CBMiUGh0dHBzOi8vd3d3Lm55dGltZXMuY29tLzIwMjQvMDQvMjQvdXMvY29sbGVnZS1wcm90ZXN0cy1zcHJlYWQtYXVzdGluLWRhbGxhcy5odG1s0gEA?hl=en-US&gl=US&ceid=US%3Aen\n",
            "\n",
            "./articles/CBMiUGh0dHBzOi8vd3d3Lm55dGltZXMuY29tLzIwMjQvMDQvMjQvdXMvY29sbGVnZS1wcm90ZXN0cy1zcHJlYWQtYXVzdGluLWRhbGxhcy5odG1s0gEA?hl=en-US&gl=US&ceid=US%3Aen\n",
            "\n",
            "./articles/CBMiZmh0dHBzOi8vd3d3LnRoZWF0bGFudGljLmNvbS90ZWNobm9sb2d5L2FyY2hpdmUvMjAyNC8wNC9jb2x1bWJpYS1zaGFmaWstcHJvdGVzdHMtb25saW5lLWNsYXNzZXMvNjc4MTcxL9IBAA?hl=en-US&gl=US&ceid=US%3Aen\n",
            "\n",
            "./articles/CBMiZmh0dHBzOi8vd3d3LnRoZWF0bGFudGljLmNvbS90ZWNobm9sb2d5L2FyY2hpdmUvMjAyNC8wNC9jb2x1bWJpYS1zaGFmaWstcHJvdGVzdHMtb25saW5lLWNsYXNzZXMvNjc4MTcxL9IBAA?hl=en-US&gl=US&ceid=US%3Aen\n",
            "\n",
            "./articles/CBMia2h0dHBzOi8vYXBuZXdzLmNvbS9hcnRpY2xlL2NvbGxlZ2UtcHJvdGVzdHMtaXNyYWVsLWRpdmVzdG1lbnQtcGFsZXN0aW5pYW5zLTNmMzdmOTZmN2JlOGUxMTI0ZjI2Njg0MmQ5Y2FhNjI30gEA?hl=en-US&gl=US&ceid=US%3Aen\n",
            "\n",
            "./articles/CBMia2h0dHBzOi8vYXBuZXdzLmNvbS9hcnRpY2xlL2NvbGxlZ2UtcHJvdGVzdHMtaXNyYWVsLWRpdmVzdG1lbnQtcGFsZXN0aW5pYW5zLTNmMzdmOTZmN2JlOGUxMTI0ZjI2Njg0MmQ5Y2FhNjI30gEA?hl=en-US&gl=US&ceid=US%3Aen\n",
            "\n",
            "./articles/CBMic2h0dHBzOi8vd3d3LnJldXRlcnMuY29tL3dvcmxkL3VzL3VzLXN1cHJlbWUtY291cnQtd2VpZ2hzLWlkYWhvcy1zdHJpY3QtYWJvcnRpb24tYmFuLW1lZGljYWwtZW1lcmdlbmNpZXMtMjAyNC0wNC0yNC_SAQA?hl=en-US&gl=US&ceid=US%3Aen\n",
            "\n",
            "./articles/CBMic2h0dHBzOi8vd3d3LnJldXRlcnMuY29tL3dvcmxkL3VzL3VzLXN1cHJlbWUtY291cnQtd2VpZ2hzLWlkYWhvcy1zdHJpY3QtYWJvcnRpb24tYmFuLW1lZGljYWwtZW1lcmdlbmNpZXMtMjAyNC0wNC0yNC_SAQA?hl=en-US&gl=US&ceid=US%3Aen\n",
            "\n",
            "./articles/CBMib2h0dHBzOi8vYWJjbmV3cy5nby5jb20vVVMvYXBwYWxsZWQtd2l0bmVzc2VzLXRvbGQtc3BlY2lhbC1jb3Vuc2VsLXRydW1wcy1oYW5kbGluZy1jbGFzc2lmaWVkL3N0b3J5P2lkPTEwOTM2MjY5MdIBc2h0dHBzOi8vYWJjbmV3cy5nby5jb20vYW1wL1VTL2FwcGFsbGVkLXdpdG5lc3Nlcy10b2xkLXNwZWNpYWwtY291bnNlbC10cnVtcHMtaGFuZGxpbmctY2xhc3NpZmllZC9zdG9yeT9pZD0xMDkzNjI2OTE?hl=en-US&gl=US&ceid=US%3Aen\n",
            "\n",
            "./articles/CBMib2h0dHBzOi8vYWJjbmV3cy5nby5jb20vVVMvYXBwYWxsZWQtd2l0bmVzc2VzLXRvbGQtc3BlY2lhbC1jb3Vuc2VsLXRydW1wcy1oYW5kbGluZy1jbGFzc2lmaWVkL3N0b3J5P2lkPTEwOTM2MjY5MdIBc2h0dHBzOi8vYWJjbmV3cy5nby5jb20vYW1wL1VTL2FwcGFsbGVkLXdpdG5lc3Nlcy10b2xkLXNwZWNpYWwtY291bnNlbC10cnVtcHMtaGFuZGxpbmctY2xhc3NpZmllZC9zdG9yeT9pZD0xMDkzNjI2OTE?hl=en-US&gl=US&ceid=US%3Aen\n"
          ]
        }
      ]
    },
    {
      "cell_type": "code",
      "source": [],
      "metadata": {
        "id": "LXBGz9P0lH7s"
      },
      "execution_count": null,
      "outputs": []
    }
  ]
}